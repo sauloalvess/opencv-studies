{
 "cells": [
  {
   "cell_type": "code",
   "execution_count": 38,
   "metadata": {},
   "outputs": [],
   "source": [
    "import cv2"
   ]
  },
  {
   "cell_type": "code",
   "execution_count": 39,
   "metadata": {},
   "outputs": [],
   "source": [
    "image = cv2.imread('the-office.jpg') #loads the image\n",
    "#image = cv2.resize(image, (800, 600)) #resizes the image\n",
    "image_gray = cv2.cvtColor(image, cv2.COLOR_BGR2GRAY) #converts the image to gray"
   ]
  },
  {
   "cell_type": "code",
   "execution_count": 40,
   "metadata": {},
   "outputs": [],
   "source": [
    "facial_detector = cv2.CascadeClassifier('haarcascade_frontalface_default.xml')\n",
    "eye_detector = cv2.CascadeClassifier('haarcascade_eye.xml')\n",
    "\n",
    "detections = facial_detector.detectMultiScale(image_gray, scaleFactor = 1.04, minNeighbors = 5, minSize = (30, 30), maxSize = (40, 40))\n",
    "for x, y, w, h in detections:\n",
    "    cv2.rectangle(image, (x, y), (x + w, y + h), (0, 255, 255), 2)\n",
    "\n",
    "eye_detections = eye_detector.detectMultiScale(image_gray, scaleFactor = 1.01)\n",
    "for x, y, w, h in eye_detections:\n",
    "    cv2.rectangle(image, (x, y), (x + w, y + h), (0, 255, 0), 2)\n",
    "\n",
    "cv2.imshow('imagem', image)\n",
    "cv2.waitKey(0) #press a key to quit\n",
    "cv2.destroyAllWindows()"
   ]
  }
 ],
 "metadata": {
  "kernelspec": {
   "display_name": "Python 3",
   "language": "python",
   "name": "python3"
  },
  "language_info": {
   "codemirror_mode": {
    "name": "ipython",
    "version": 3
   },
   "file_extension": ".py",
   "mimetype": "text/x-python",
   "name": "python",
   "nbconvert_exporter": "python",
   "pygments_lexer": "ipython3",
   "version": "3.10.10"
  },
  "orig_nbformat": 4,
  "vscode": {
   "interpreter": {
    "hash": "f1effbad741e01666f0f4751dc8ae770546dfef7d65e059eb343e8231aae0466"
   }
  }
 },
 "nbformat": 4,
 "nbformat_minor": 2
}
