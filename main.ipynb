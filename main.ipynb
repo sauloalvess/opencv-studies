{
 "cells": [
  {
   "cell_type": "code",
   "execution_count": 5,
   "metadata": {},
   "outputs": [],
   "source": [
    "import cv2"
   ]
  },
  {
   "cell_type": "code",
   "execution_count": 6,
   "metadata": {},
   "outputs": [],
   "source": [
    "image = cv2.imread('the-office.jpg') #loads the image\n",
    "image = cv2.resize(image, (800, 600)) #resizes the image\n",
    "image_gray = cv2.cvtColor(image, cv2.COLOR_BGR2GRAY) #converts the image to gray\n",
    "#cv2.imshow('image', image_gray) shows the image\n",
    "#cv2.waitKey(0) press a key to quit\n",
    "#cv2.destroyAllWindows()"
   ]
  },
  {
   "cell_type": "code",
   "execution_count": 7,
   "metadata": {},
   "outputs": [],
   "source": [
    "facial_detector = cv2.CascadeClassifier('haarcascade_frontalface_default.xml')\n",
    "detections = facial_detector.detectMultiScale(image_gray)\n",
    "for x, y, w, h in detections:\n",
    "    cv2.rectangle(image, (x, y), (x + w, y + h), (0, 255, 255), 5)\n",
    "cv2.imshow('imagem', image)\n",
    "cv2.waitKey(0) #press a key to quit\n",
    "cv2.destroyAllWindows()"
   ]
  }
 ],
 "metadata": {
  "kernelspec": {
   "display_name": "Python 3",
   "language": "python",
   "name": "python3"
  },
  "language_info": {
   "codemirror_mode": {
    "name": "ipython",
    "version": 3
   },
   "file_extension": ".py",
   "mimetype": "text/x-python",
   "name": "python",
   "nbconvert_exporter": "python",
   "pygments_lexer": "ipython3",
   "version": "3.10.10"
  },
  "orig_nbformat": 4,
  "vscode": {
   "interpreter": {
    "hash": "f1effbad741e01666f0f4751dc8ae770546dfef7d65e059eb343e8231aae0466"
   }
  }
 },
 "nbformat": 4,
 "nbformat_minor": 2
}
